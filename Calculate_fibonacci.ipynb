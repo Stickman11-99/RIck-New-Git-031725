{
 "cells": [
  {
   "cell_type": "code",
   "execution_count": 3,
   "id": "e1d47cfe-eab1-438f-abc6-2d9196958279",
   "metadata": {},
   "outputs": [],
   "source": [
    "def fibonacci_sequence(n):\n",
    "    if n <= 0:\n",
    "        return []\n",
    "    elif n == 1:\n",
    "        return [0]\n",
    "    elif n == 2:\n",
    "        return [0, 1]\n",
    "\n",
    "    sequence = [0, 1]\n",
    "\n",
    "    for i in range(2, n):\n",
    "        next_fibonacci_number = sequence[-1] + sequence[-2]\n",
    "        sequence.append(next_fibonacci_number)\n",
    "    \n",
    "    return sequence"
   ]
  },
  {
   "cell_type": "code",
   "execution_count": null,
   "id": "5018c53f-546e-400c-8717-000a32d72cc8",
   "metadata": {},
   "outputs": [],
   "source": []
  }
 ],
 "metadata": {
  "kernelspec": {
   "display_name": "Python 3 (ipykernel)",
   "language": "python",
   "name": "python3"
  },
  "language_info": {
   "codemirror_mode": {
    "name": "ipython",
    "version": 3
   },
   "file_extension": ".py",
   "mimetype": "text/x-python",
   "name": "python",
   "nbconvert_exporter": "python",
   "pygments_lexer": "ipython3",
   "version": "3.12.7"
  }
 },
 "nbformat": 4,
 "nbformat_minor": 5
}
